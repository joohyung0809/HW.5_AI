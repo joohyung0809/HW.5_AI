{
  "nbformat": 4,
  "nbformat_minor": 0,
  "metadata": {
    "colab": {
      "provenance": []
    },
    "kernelspec": {
      "name": "python3",
      "display_name": "Python 3"
    },
    "language_info": {
      "name": "python"
    },
    "accelerator": "GPU",
    "gpuClass": "standard"
  },
  "cells": [
    {
      "cell_type": "code",
      "source": [
        "from sklearn.datasets import fetch_openml\n",
        "mnist = fetch_openml('mnist_784', version=1, cache=True)\n",
        "\n",
        "X = mnist.data/255.0\n",
        "y = mnist.target"
      ],
      "metadata": {
        "id": "d518JUKuKwzW"
      },
      "execution_count": 2,
      "outputs": []
    },
    {
      "cell_type": "code",
      "source": [
        "import torch\n",
        "from torch.utils.data import TensorDataset, DataLoader\n",
        "from sklearn.model_selection import train_test_split\n",
        "\n",
        "X_train, X_test, y_train, y_test = train_test_split(X,y,test_size=1/7, random_state=0)\n",
        "X_train = torch.Tensor(X_train.values)\n",
        "X_test = torch.Tensor(X_test.values)\n",
        "y_train = torch.LongTensor(list(map(int, y_train)))\n",
        "y_test = torch.LongTensor(list(map(int, y_test)))\n",
        "\n",
        "ds_train = TensorDataset(X_train, y_train)\n",
        "ds_test = TensorDataset(X_test, y_test)\n",
        "\n",
        "loader_train = DataLoader(ds_train,batch_size=64,shuffle=True)\n",
        "loader_test = DataLoader(ds_test,batch_size=64,shuffle=True)\n",
        "\n",
        "from torch import nn\n",
        "model = nn.Sequential()\n",
        "model.add_module('fc1', nn.Linear(28*28*1, 100))\n",
        "model.add_module('relu1', nn.ReLU())\n",
        "model.add_module('fc2', nn.Linear(100, 100))\n",
        "model.add_module('relu2', nn.ReLU())\n",
        "model.add_module('fc3',nn.Linear(100,10))\n",
        "\n",
        "from torch import optim\n",
        "loss_fn = nn.CrossEntropyLoss() # 손실함수\n",
        "optimizer = optim.Adam(model.parameters(),lr=0.01)\n",
        "\n",
        "def train(epoch):\n",
        "    model.train()  # 학습모드로 변환\n",
        "    for data, targets in loader_train:\n",
        "        optimizer.zero_grad() #그레디언트 초기화\n",
        "        outputs = model(data)\n",
        "        loss = loss_fn(outputs, targets)\n",
        "        loss.backward()     \n",
        "        optimizer.step()    \n",
        "    print('에포크 {}: 완료'.format(epoch))     \n",
        "\n",
        "\n",
        "def test(head):\n",
        "    model.eval()\n",
        "    correct = 0\n",
        "    with torch.no_grad():\n",
        "        for data, targets in loader_test:\n",
        "            outputs = model(data)\n",
        "            _,predicted = torch.max(outputs.data,1)\n",
        "            correct += predicted.eq(targets.data.view_as(predicted)).sum()\n",
        "    data_num = len(loader_test.dataset)\n",
        "    print('{}정확도:{}/{}({:.0f}%)'.format(head, correct, data_num ,100.*correct/data_num))\n",
        "        \n",
        "test('시작')\n",
        "for epoch in range(8):\n",
        "   train(epoch)\n",
        "   test('학습중')\n",
        "   \n",
        "test('학습 후')\n",
        "        \n",
        "index = 10 \n",
        "model.eval()\n",
        "data = X_train[index]\n",
        "output = model(data)\n",
        "print('{}번째 학습데이터의 테스트 결과 : {}'.format(index,output))\n",
        "_, predicted = torch.max(output.data,0)\n",
        "print('{}번째 데이터의 예측:{}'.format(index, predicted))\n",
        "X_test_show = (X_test[index]).numpy()\n",
        "\n",
        "print('실제 레이블: {}'.format(y_test[index]))"
      ],
      "metadata": {
        "id": "daaF3NRjGYqi",
        "colab": {
          "base_uri": "https://localhost:8080/"
        },
        "outputId": "d293cb06-5349-4316-c157-2747c73bf954"
      },
      "execution_count": 6,
      "outputs": [
        {
          "output_type": "stream",
          "name": "stdout",
          "text": [
            "시작정확도:962/10000(10%)\n",
            "에포크 0: 완료\n",
            "학습중정확도:9533/10000(95%)\n",
            "에포크 1: 완료\n",
            "학습중정확도:9577/10000(96%)\n",
            "에포크 2: 완료\n",
            "학습중정확도:9511/10000(95%)\n",
            "에포크 3: 완료\n",
            "학습중정확도:9661/10000(97%)\n",
            "에포크 4: 완료\n",
            "학습중정확도:9602/10000(96%)\n",
            "에포크 5: 완료\n",
            "학습중정확도:9672/10000(97%)\n",
            "에포크 6: 완료\n",
            "학습중정확도:9624/10000(96%)\n",
            "에포크 7: 완료\n",
            "학습중정확도:9653/10000(97%)\n",
            "학습 후정확도:9653/10000(97%)\n",
            "10번째 학습데이터의 테스트 결과 : tensor([-1.9370, -5.4138, -1.7358,  1.3084, -2.0621,  1.5101, -1.7703, -4.7288,\n",
            "         3.0792,  0.7303], grad_fn=<AddBackward0>)\n",
            "10번째 데이터의 예측:8\n",
            "실제 레이블: 1\n"
          ]
        }
      ]
    }
  ]
}